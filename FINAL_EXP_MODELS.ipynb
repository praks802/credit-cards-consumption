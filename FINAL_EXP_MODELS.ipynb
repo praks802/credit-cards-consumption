{
 "cells": [
  {
   "cell_type": "code",
   "execution_count": 3,
   "metadata": {},
   "outputs": [],
   "source": [
    "# Import Libraries\n",
    "\n",
    "import numpy as np\n",
    "import pandas as pd\n",
    "import matplotlib.pyplot as plt\n",
    "import seaborn as sns\n",
    "%matplotlib inline\n",
    "import warnings\n",
    "warnings.filterwarnings('ignore')\n",
    "from sklearn.preprocessing import LabelEncoder,MinMaxScaler,StandardScaler,LabelBinarizer\n",
    "from sklearn.linear_model import LinearRegression,Lasso,Ridge\n",
    "from sklearn.tree import DecisionTreeRegressor\n",
    "from sklearn.ensemble import AdaBoostRegressor ,RandomForestRegressor ,GradientBoostingRegressor, BaggingRegressor\n",
    "from xgboost import XGBRegressor\n",
    "from sklearn.model_selection import GridSearchCV, RandomizedSearchCV\n",
    "import warnings\n",
    "warnings.filterwarnings('ignore')\n",
    "from scipy.stats.mstats import winsorize\n",
    "from sklearn.model_selection import train_test_split\n",
    "pd.set_option('display.max_columns',None)"
   ]
  },
  {
   "cell_type": "markdown",
   "metadata": {},
   "source": [
    "# Running Models on Train data"
   ]
  },
  {
   "cell_type": "code",
   "execution_count": 4,
   "metadata": {},
   "outputs": [],
   "source": [
    "# Loading cleaned dataframe\n",
    "\n",
    "cdf_cleaned = pd.read_csv('sat_train_cleaned.csv')"
   ]
  },
  {
   "cell_type": "code",
   "execution_count": 5,
   "metadata": {},
   "outputs": [
    {
     "data": {
      "text/html": [
       "<div>\n",
       "<style scoped>\n",
       "    .dataframe tbody tr th:only-of-type {\n",
       "        vertical-align: middle;\n",
       "    }\n",
       "\n",
       "    .dataframe tbody tr th {\n",
       "        vertical-align: top;\n",
       "    }\n",
       "\n",
       "    .dataframe thead th {\n",
       "        text-align: right;\n",
       "    }\n",
       "</style>\n",
       "<table border=\"1\" class=\"dataframe\">\n",
       "  <thead>\n",
       "    <tr style=\"text-align: right;\">\n",
       "      <th></th>\n",
       "      <th>account_type</th>\n",
       "      <th>gender</th>\n",
       "    </tr>\n",
       "  </thead>\n",
       "  <tbody>\n",
       "    <tr>\n",
       "      <td>0</td>\n",
       "      <td>0</td>\n",
       "      <td>1</td>\n",
       "    </tr>\n",
       "    <tr>\n",
       "      <td>1</td>\n",
       "      <td>0</td>\n",
       "      <td>1</td>\n",
       "    </tr>\n",
       "    <tr>\n",
       "      <td>2</td>\n",
       "      <td>0</td>\n",
       "      <td>1</td>\n",
       "    </tr>\n",
       "    <tr>\n",
       "      <td>3</td>\n",
       "      <td>0</td>\n",
       "      <td>0</td>\n",
       "    </tr>\n",
       "    <tr>\n",
       "      <td>4</td>\n",
       "      <td>0</td>\n",
       "      <td>1</td>\n",
       "    </tr>\n",
       "  </tbody>\n",
       "</table>\n",
       "</div>"
      ],
      "text/plain": [
       "   account_type  gender\n",
       "0             0       1\n",
       "1             0       1\n",
       "2             0       1\n",
       "3             0       0\n",
       "4             0       1"
      ]
     },
     "execution_count": 5,
     "metadata": {},
     "output_type": "execute_result"
    }
   ],
   "source": [
    "# Label encoding account type and gender back from Train dataset\n",
    "\n",
    "df_cat = pd.read_csv('Train.csv')\n",
    "df_cat = df_cat[['account_type','gender']]\n",
    "lb = LabelBinarizer()\n",
    "for col in df_cat.columns:\n",
    "    df_cat[col] = lb.fit_transform(df_cat[col])\n",
    "df_cat.head()"
   ]
  },
  {
   "cell_type": "code",
   "execution_count": 6,
   "metadata": {},
   "outputs": [],
   "source": [
    "# Splitting Features and Target in X and y and updating encoded account_type and gender in features X\n",
    "\n",
    "X = np.log(cdf_cleaned.iloc[:,:-1])\n",
    "X = pd.concat([df_cat,X],axis=1)\n",
    "y = np.log(cdf_cleaned.cc_cons)"
   ]
  },
  {
   "cell_type": "code",
   "execution_count": 7,
   "metadata": {},
   "outputs": [],
   "source": [
    "# Splitting into train and test data\n",
    "\n",
    "X_train,X_test,y_train,y_test = train_test_split(X,y,test_size=0.3,random_state=0)"
   ]
  },
  {
   "cell_type": "code",
   "execution_count": 8,
   "metadata": {},
   "outputs": [],
   "source": [
    "# Using Evaluation matrix Root Mean Squared Logarithmic Error.\n",
    "\n",
    "def rmsle(actual_column, predicted_column):\n",
    "    sum=0.0\n",
    "    for x,y in zip(actual_column,predicted_column):\n",
    "        if x<0 or y<0: #check for negative values. \n",
    "            continue\n",
    "        p = np.log(y+1)\n",
    "        r = np.log(x+1)\n",
    "        sum = sum + (p - r)**2\n",
    "    return (sum/len(predicted_column))**0.5"
   ]
  },
  {
   "cell_type": "code",
   "execution_count": 9,
   "metadata": {},
   "outputs": [
    {
     "name": "stdout",
     "output_type": "stream",
     "text": [
      "Y-Pred :\n",
      " [9.70346684 9.67443933 9.58473694 ... 9.7414335  9.65756543 9.62143431]\n",
      "\n",
      "RMSLE for Linear Regression :\n",
      " 0.13184094956920464\n"
     ]
    }
   ],
   "source": [
    "# First Model : Linear Regression\n",
    "\n",
    "linreg = LinearRegression()\n",
    "linreg.fit(X_train,y_train)\n",
    "y_pred = linreg.predict(X_test)\n",
    "print('Y-Pred :\\n',y_pred)\n",
    "linreg_rmsle = rmsle(y_test,y_pred)\n",
    "print(\"\\nRMSLE for Linear Regression :\\n\",linreg_rmsle)"
   ]
  },
  {
   "cell_type": "code",
   "execution_count": 10,
   "metadata": {},
   "outputs": [
    {
     "name": "stdout",
     "output_type": "stream",
     "text": [
      "Y-Pred :\n",
      " [9.64319642 9.64319642 9.64319642 ... 9.70612265 9.64319642 9.64319642]\n",
      "\n",
      "RMSLE for Decision Tree Regressor :\n",
      " 0.13191585370014866\n"
     ]
    }
   ],
   "source": [
    "# Decision Tree Regressor\n",
    "\n",
    "dt_reg = DecisionTreeRegressor(max_depth=2)\n",
    "dt_reg.fit(X_train,y_train)\n",
    "y_pred_dtr = dt_reg.predict(X_test)\n",
    "print('Y-Pred :\\n',y_pred_dtr)\n",
    "dt_reg_rmsle = rmsle(y_test,y_pred_dtr)\n",
    "print(\"\\nRMSLE for Decision Tree Regressor :\\n\",dt_reg_rmsle)\n"
   ]
  },
  {
   "cell_type": "code",
   "execution_count": 11,
   "metadata": {
    "scrolled": true
   },
   "outputs": [
    {
     "name": "stdout",
     "output_type": "stream",
     "text": [
      "Y-Pred :\n",
      " [9.81265178 9.48089827 9.50416926 ... 9.77839701 9.54476912 9.42031828]\n",
      "\n",
      "RMSLE for Bagging Regressor :\n",
      " 0.13315442764848145\n"
     ]
    }
   ],
   "source": [
    "# Bagging Regressor\n",
    "\n",
    "bagging_reg = BaggingRegressor(base_estimator=DecisionTreeRegressor(),n_estimators=100,max_samples=100,random_state=0)\n",
    "bagging_reg.fit(X_train,y_train)\n",
    "y_pred_bagging = bagging_reg.predict(X_test)\n",
    "print(\"Y-Pred :\\n\",y_pred_bagging)\n",
    "bagging_rmsle = rmsle(y_test,y_pred_bagging)\n",
    "print(\"\\nRMSLE for Bagging Regressor :\\n\",bagging_rmsle)"
   ]
  },
  {
   "cell_type": "code",
   "execution_count": 12,
   "metadata": {},
   "outputs": [
    {
     "name": "stdout",
     "output_type": "stream",
     "text": [
      "Y-Pred :\n",
      " [9.78945231 9.41492543 9.52396423 ... 9.92472798 9.58080125 9.46956119]\n",
      "\n",
      "RMSLE for Pasting Regressor :\n",
      " 0.13351153292063792\n"
     ]
    }
   ],
   "source": [
    "# Pasting Regressor\n",
    "\n",
    "pasting_reg = BaggingRegressor(base_estimator=DecisionTreeRegressor(),n_estimators=100,max_samples=100,bootstrap=False, \\\n",
    "                               random_state=0)\n",
    "pasting_reg.fit(X_train,y_train)\n",
    "y_pred_pasting = pasting_reg.predict(X_test)\n",
    "print(\"Y-Pred :\\n\",y_pred_pasting)\n",
    "pasting_rmsle = rmsle(y_test,y_pred_pasting)\n",
    "print(\"\\nRMSLE for Pasting Regressor :\\n\",pasting_rmsle)"
   ]
  },
  {
   "cell_type": "code",
   "execution_count": 13,
   "metadata": {},
   "outputs": [
    {
     "name": "stdout",
     "output_type": "stream",
     "text": [
      "Y-Pred :\n",
      " [9.71207666 9.67119051 9.53900911 ... 9.73874822 9.60698943 9.6168988 ]\n",
      "\n",
      "RMSLE for Random Forest Regressor :\n",
      " 0.1320447291227798\n"
     ]
    }
   ],
   "source": [
    "# Random Forest Regression\n",
    "\n",
    "rf_reg = RandomForestRegressor(n_estimators=100,n_jobs=100,min_samples_leaf=100,random_state=0)\n",
    "rf_reg.fit(X_train,y_train)\n",
    "y_pred_rf = rf_reg.predict(X_test)\n",
    "print('Y-Pred :\\n',y_pred_rf)\n",
    "rf_rmsle = rmsle(y_test,y_pred_rf)\n",
    "print('\\nRMSLE for Random Forest Regressor :\\n',rf_rmsle)"
   ]
  },
  {
   "cell_type": "markdown",
   "metadata": {},
   "source": [
    "# Running models on Test data"
   ]
  },
  {
   "cell_type": "code",
   "execution_count": 24,
   "metadata": {},
   "outputs": [
    {
     "data": {
      "text/plain": [
       "(5000, 43)"
      ]
     },
     "execution_count": 24,
     "metadata": {},
     "output_type": "execute_result"
    }
   ],
   "source": [
    "test_df = pd.read_csv(\"Test.csv\")\n",
    "test_df.shape"
   ]
  },
  {
   "cell_type": "code",
   "execution_count": 27,
   "metadata": {},
   "outputs": [],
   "source": [
    "test_ids = test_df.copy()\n",
    "ids = test_ids['ID']\n",
    "test_acc_gender = test_df[['account_type','gender']]"
   ]
  },
  {
   "cell_type": "code",
   "execution_count": 28,
   "metadata": {},
   "outputs": [],
   "source": [
    "def clean_test(dataset):\n",
    "    # Merging features\n",
    "    dataset['total_cc_cons'] = (dataset.cc_cons_apr + dataset.cc_cons_may + dataset.cc_cons_jun)\n",
    "    dataset['total_dc_cons'] = (dataset.dc_cons_apr + dataset.dc_cons_may + dataset.dc_cons_jun)\n",
    "    dataset['total_cc_count'] = (dataset.cc_count_apr + dataset.cc_count_may + dataset.cc_count_jun)\n",
    "    dataset['total_dc_count'] = (dataset.dc_count_apr + dataset.dc_count_may + dataset.dc_count_jun)\n",
    "    dataset['total_debit_amount'] = (dataset.debit_amount_apr + dataset.debit_amount_may + dataset.debit_amount_jun)\n",
    "    dataset['total_credit_amount'] = (dataset.credit_amount_apr + dataset.credit_amount_may + dataset.credit_amount_jun)\n",
    "    dataset['total_debit_count'] = (dataset.debit_count_apr + dataset.debit_count_may + dataset.debit_count_jun)\n",
    "    dataset['total_credit_count'] = (dataset.credit_count_apr + dataset.credit_count_may + dataset.credit_count_jun)\n",
    "    dataset['total_investments'] = (dataset.investment_1 + dataset.investment_2 + dataset.investment_3 + dataset.investment_4)\n",
    "    return dataset\n",
    "\n",
    "test_df = clean_test(test_df)"
   ]
  },
  {
   "cell_type": "code",
   "execution_count": 29,
   "metadata": {},
   "outputs": [],
   "source": [
    "def drop_cols(dataset):\n",
    "    \n",
    "    # droping columns\n",
    "    dataset.drop(['cc_cons_apr','cc_cons_may','cc_cons_jun','dc_cons_apr','dc_cons_may','dc_cons_jun',\\\n",
    "                     'cc_count_apr','cc_count_may','cc_count_jun','dc_count_apr','dc_count_may','dc_count_jun',\\\n",
    "                    'investment_1','investment_2','investment_3','investment_4',\\\n",
    "                    'personal_loan_active','personal_loan_closed','vehicle_loan_active','vehicle_loan_closed',\\\n",
    "                    'debit_amount_apr','debit_amount_may','debit_amount_jun','credit_amount_apr','credit_amount_may','credit_amount_jun',\\\n",
    "                    'loan_enq','debit_count_apr','credit_count_apr','debit_count_may','credit_count_may',\\\n",
    "                    'debit_count_jun','credit_count_jun','ID','account_type','gender'],axis=1,inplace=True)\n",
    "    return dataset\n",
    "\n",
    "test_df = drop_cols(test_df)"
   ]
  },
  {
   "cell_type": "code",
   "execution_count": 30,
   "metadata": {},
   "outputs": [],
   "source": [
    "def treat_outliers(dataframe):\n",
    "    cols = list(dataframe)\n",
    "    for col in cols:\n",
    "        if col in dataframe.select_dtypes(include=np.number).columns:\n",
    "            dataframe[col] = winsorize(dataframe[col], limits=[0.05, 0.1],inclusive=(True, True))\n",
    "    \n",
    "    return dataframe    \n",
    "\n",
    "test_df = treat_outliers(test_df)"
   ]
  },
  {
   "cell_type": "code",
   "execution_count": 35,
   "metadata": {},
   "outputs": [
    {
     "data": {
      "text/html": [
       "<div>\n",
       "<style scoped>\n",
       "    .dataframe tbody tr th:only-of-type {\n",
       "        vertical-align: middle;\n",
       "    }\n",
       "\n",
       "    .dataframe tbody tr th {\n",
       "        vertical-align: top;\n",
       "    }\n",
       "\n",
       "    .dataframe thead th {\n",
       "        text-align: right;\n",
       "    }\n",
       "</style>\n",
       "<table border=\"1\" class=\"dataframe\">\n",
       "  <thead>\n",
       "    <tr style=\"text-align: right;\">\n",
       "      <th></th>\n",
       "      <th>age</th>\n",
       "      <th>region_code</th>\n",
       "      <th>card_lim</th>\n",
       "      <th>max_credit_amount_apr</th>\n",
       "      <th>max_credit_amount_may</th>\n",
       "      <th>max_credit_amount_jun</th>\n",
       "      <th>emi_active</th>\n",
       "      <th>total_cc_cons</th>\n",
       "      <th>total_dc_cons</th>\n",
       "      <th>total_cc_count</th>\n",
       "      <th>total_dc_count</th>\n",
       "      <th>total_debit_amount</th>\n",
       "      <th>total_credit_amount</th>\n",
       "      <th>total_debit_count</th>\n",
       "      <th>total_credit_count</th>\n",
       "      <th>total_investments</th>\n",
       "    </tr>\n",
       "  </thead>\n",
       "  <tbody>\n",
       "    <tr>\n",
       "      <td>0</td>\n",
       "      <td>3.610918</td>\n",
       "      <td>6.354370</td>\n",
       "      <td>11.736069</td>\n",
       "      <td>10.105816</td>\n",
       "      <td>9.185023</td>\n",
       "      <td>10.163770</td>\n",
       "      <td>7.065178</td>\n",
       "      <td>9.802705</td>\n",
       "      <td>9.766837</td>\n",
       "      <td>2.995732</td>\n",
       "      <td>4.691348</td>\n",
       "      <td>11.310655</td>\n",
       "      <td>11.673061</td>\n",
       "      <td>3.871201</td>\n",
       "      <td>4.143135</td>\n",
       "      <td>12.828078</td>\n",
       "    </tr>\n",
       "    <tr>\n",
       "      <td>1</td>\n",
       "      <td>3.496508</td>\n",
       "      <td>5.976351</td>\n",
       "      <td>10.985293</td>\n",
       "      <td>9.220291</td>\n",
       "      <td>9.739026</td>\n",
       "      <td>9.410338</td>\n",
       "      <td>9.707926</td>\n",
       "      <td>10.645964</td>\n",
       "      <td>8.529106</td>\n",
       "      <td>2.995732</td>\n",
       "      <td>4.744932</td>\n",
       "      <td>11.029059</td>\n",
       "      <td>12.036630</td>\n",
       "      <td>4.795791</td>\n",
       "      <td>3.988984</td>\n",
       "      <td>13.318141</td>\n",
       "    </tr>\n",
       "    <tr>\n",
       "      <td>2</td>\n",
       "      <td>3.970292</td>\n",
       "      <td>5.780744</td>\n",
       "      <td>10.819758</td>\n",
       "      <td>9.612467</td>\n",
       "      <td>10.502269</td>\n",
       "      <td>9.489108</td>\n",
       "      <td>7.871799</td>\n",
       "      <td>9.187916</td>\n",
       "      <td>9.313639</td>\n",
       "      <td>3.737670</td>\n",
       "      <td>3.970292</td>\n",
       "      <td>12.342922</td>\n",
       "      <td>11.613477</td>\n",
       "      <td>4.442651</td>\n",
       "      <td>3.970292</td>\n",
       "      <td>13.572578</td>\n",
       "    </tr>\n",
       "    <tr>\n",
       "      <td>3</td>\n",
       "      <td>3.496508</td>\n",
       "      <td>5.913503</td>\n",
       "      <td>13.161584</td>\n",
       "      <td>11.459651</td>\n",
       "      <td>11.490935</td>\n",
       "      <td>11.188815</td>\n",
       "      <td>5.831266</td>\n",
       "      <td>10.624487</td>\n",
       "      <td>10.560412</td>\n",
       "      <td>5.141664</td>\n",
       "      <td>2.833213</td>\n",
       "      <td>12.357511</td>\n",
       "      <td>12.209821</td>\n",
       "      <td>3.931826</td>\n",
       "      <td>3.218876</td>\n",
       "      <td>13.103155</td>\n",
       "    </tr>\n",
       "    <tr>\n",
       "      <td>4</td>\n",
       "      <td>4.127134</td>\n",
       "      <td>6.224558</td>\n",
       "      <td>11.931636</td>\n",
       "      <td>9.581559</td>\n",
       "      <td>10.237671</td>\n",
       "      <td>10.653582</td>\n",
       "      <td>7.941722</td>\n",
       "      <td>9.190227</td>\n",
       "      <td>9.337129</td>\n",
       "      <td>4.077537</td>\n",
       "      <td>3.433987</td>\n",
       "      <td>12.293730</td>\n",
       "      <td>11.321268</td>\n",
       "      <td>4.795791</td>\n",
       "      <td>4.343805</td>\n",
       "      <td>14.182173</td>\n",
       "    </tr>\n",
       "  </tbody>\n",
       "</table>\n",
       "</div>"
      ],
      "text/plain": [
       "        age  region_code   card_lim  max_credit_amount_apr  \\\n",
       "0  3.610918     6.354370  11.736069              10.105816   \n",
       "1  3.496508     5.976351  10.985293               9.220291   \n",
       "2  3.970292     5.780744  10.819758               9.612467   \n",
       "3  3.496508     5.913503  13.161584              11.459651   \n",
       "4  4.127134     6.224558  11.931636               9.581559   \n",
       "\n",
       "   max_credit_amount_may  max_credit_amount_jun  emi_active  total_cc_cons  \\\n",
       "0               9.185023              10.163770    7.065178       9.802705   \n",
       "1               9.739026               9.410338    9.707926      10.645964   \n",
       "2              10.502269               9.489108    7.871799       9.187916   \n",
       "3              11.490935              11.188815    5.831266      10.624487   \n",
       "4              10.237671              10.653582    7.941722       9.190227   \n",
       "\n",
       "   total_dc_cons  total_cc_count  total_dc_count  total_debit_amount  \\\n",
       "0       9.766837        2.995732        4.691348           11.310655   \n",
       "1       8.529106        2.995732        4.744932           11.029059   \n",
       "2       9.313639        3.737670        3.970292           12.342922   \n",
       "3      10.560412        5.141664        2.833213           12.357511   \n",
       "4       9.337129        4.077537        3.433987           12.293730   \n",
       "\n",
       "   total_credit_amount  total_debit_count  total_credit_count  \\\n",
       "0            11.673061           3.871201            4.143135   \n",
       "1            12.036630           4.795791            3.988984   \n",
       "2            11.613477           4.442651            3.970292   \n",
       "3            12.209821           3.931826            3.218876   \n",
       "4            11.321268           4.795791            4.343805   \n",
       "\n",
       "   total_investments  \n",
       "0          12.828078  \n",
       "1          13.318141  \n",
       "2          13.572578  \n",
       "3          13.103155  \n",
       "4          14.182173  "
      ]
     },
     "execution_count": 35,
     "metadata": {},
     "output_type": "execute_result"
    }
   ],
   "source": [
    "# Taking log of features of test data\n",
    "\n",
    "test_df = np.log(test_df)\n",
    "test_df.head()\n"
   ]
  },
  {
   "cell_type": "code",
   "execution_count": 34,
   "metadata": {},
   "outputs": [
    {
     "data": {
      "text/html": [
       "<div>\n",
       "<style scoped>\n",
       "    .dataframe tbody tr th:only-of-type {\n",
       "        vertical-align: middle;\n",
       "    }\n",
       "\n",
       "    .dataframe tbody tr th {\n",
       "        vertical-align: top;\n",
       "    }\n",
       "\n",
       "    .dataframe thead th {\n",
       "        text-align: right;\n",
       "    }\n",
       "</style>\n",
       "<table border=\"1\" class=\"dataframe\">\n",
       "  <thead>\n",
       "    <tr style=\"text-align: right;\">\n",
       "      <th></th>\n",
       "      <th>account_type</th>\n",
       "      <th>gender</th>\n",
       "    </tr>\n",
       "  </thead>\n",
       "  <tbody>\n",
       "    <tr>\n",
       "      <td>0</td>\n",
       "      <td>0</td>\n",
       "      <td>1</td>\n",
       "    </tr>\n",
       "    <tr>\n",
       "      <td>1</td>\n",
       "      <td>0</td>\n",
       "      <td>1</td>\n",
       "    </tr>\n",
       "    <tr>\n",
       "      <td>2</td>\n",
       "      <td>0</td>\n",
       "      <td>1</td>\n",
       "    </tr>\n",
       "    <tr>\n",
       "      <td>3</td>\n",
       "      <td>0</td>\n",
       "      <td>1</td>\n",
       "    </tr>\n",
       "    <tr>\n",
       "      <td>4</td>\n",
       "      <td>0</td>\n",
       "      <td>1</td>\n",
       "    </tr>\n",
       "  </tbody>\n",
       "</table>\n",
       "</div>"
      ],
      "text/plain": [
       "   account_type  gender\n",
       "0             0       1\n",
       "1             0       1\n",
       "2             0       1\n",
       "3             0       1\n",
       "4             0       1"
      ]
     },
     "execution_count": 34,
     "metadata": {},
     "output_type": "execute_result"
    }
   ],
   "source": [
    "#  Label encoding account_type and gender\n",
    "\n",
    "lb = LabelBinarizer() \n",
    "\n",
    "for col in test_acc_gender.columns:\n",
    "    test_acc_gender[col] = lb.fit_transform(test_acc_gender[col])\n",
    "\n",
    "test_acc_gender.head()"
   ]
  },
  {
   "cell_type": "code",
   "execution_count": 37,
   "metadata": {},
   "outputs": [],
   "source": [
    "# Combining test features with acount type and gender\n",
    "\n",
    "test_X = pd.concat([test_acc_gender,test_df],axis=1)"
   ]
  },
  {
   "cell_type": "code",
   "execution_count": 39,
   "metadata": {},
   "outputs": [
    {
     "data": {
      "text/html": [
       "<div>\n",
       "<style scoped>\n",
       "    .dataframe tbody tr th:only-of-type {\n",
       "        vertical-align: middle;\n",
       "    }\n",
       "\n",
       "    .dataframe tbody tr th {\n",
       "        vertical-align: top;\n",
       "    }\n",
       "\n",
       "    .dataframe thead th {\n",
       "        text-align: right;\n",
       "    }\n",
       "</style>\n",
       "<table border=\"1\" class=\"dataframe\">\n",
       "  <thead>\n",
       "    <tr style=\"text-align: right;\">\n",
       "      <th></th>\n",
       "      <th>account_type</th>\n",
       "      <th>gender</th>\n",
       "      <th>age</th>\n",
       "      <th>region_code</th>\n",
       "      <th>card_lim</th>\n",
       "      <th>max_credit_amount_apr</th>\n",
       "      <th>max_credit_amount_may</th>\n",
       "      <th>max_credit_amount_jun</th>\n",
       "      <th>emi_active</th>\n",
       "      <th>total_cc_cons</th>\n",
       "      <th>total_dc_cons</th>\n",
       "      <th>total_cc_count</th>\n",
       "      <th>total_dc_count</th>\n",
       "      <th>total_debit_amount</th>\n",
       "      <th>total_credit_amount</th>\n",
       "      <th>total_debit_count</th>\n",
       "      <th>total_credit_count</th>\n",
       "      <th>total_investments</th>\n",
       "    </tr>\n",
       "  </thead>\n",
       "  <tbody>\n",
       "    <tr>\n",
       "      <td>0</td>\n",
       "      <td>0</td>\n",
       "      <td>1</td>\n",
       "      <td>3.610918</td>\n",
       "      <td>6.354370</td>\n",
       "      <td>11.736069</td>\n",
       "      <td>10.105816</td>\n",
       "      <td>9.185023</td>\n",
       "      <td>10.163770</td>\n",
       "      <td>7.065178</td>\n",
       "      <td>9.802705</td>\n",
       "      <td>9.766837</td>\n",
       "      <td>2.995732</td>\n",
       "      <td>4.691348</td>\n",
       "      <td>11.310655</td>\n",
       "      <td>11.673061</td>\n",
       "      <td>3.871201</td>\n",
       "      <td>4.143135</td>\n",
       "      <td>12.828078</td>\n",
       "    </tr>\n",
       "    <tr>\n",
       "      <td>1</td>\n",
       "      <td>0</td>\n",
       "      <td>1</td>\n",
       "      <td>3.496508</td>\n",
       "      <td>5.976351</td>\n",
       "      <td>10.985293</td>\n",
       "      <td>9.220291</td>\n",
       "      <td>9.739026</td>\n",
       "      <td>9.410338</td>\n",
       "      <td>9.707926</td>\n",
       "      <td>10.645964</td>\n",
       "      <td>8.529106</td>\n",
       "      <td>2.995732</td>\n",
       "      <td>4.744932</td>\n",
       "      <td>11.029059</td>\n",
       "      <td>12.036630</td>\n",
       "      <td>4.795791</td>\n",
       "      <td>3.988984</td>\n",
       "      <td>13.318141</td>\n",
       "    </tr>\n",
       "    <tr>\n",
       "      <td>2</td>\n",
       "      <td>0</td>\n",
       "      <td>1</td>\n",
       "      <td>3.970292</td>\n",
       "      <td>5.780744</td>\n",
       "      <td>10.819758</td>\n",
       "      <td>9.612467</td>\n",
       "      <td>10.502269</td>\n",
       "      <td>9.489108</td>\n",
       "      <td>7.871799</td>\n",
       "      <td>9.187916</td>\n",
       "      <td>9.313639</td>\n",
       "      <td>3.737670</td>\n",
       "      <td>3.970292</td>\n",
       "      <td>12.342922</td>\n",
       "      <td>11.613477</td>\n",
       "      <td>4.442651</td>\n",
       "      <td>3.970292</td>\n",
       "      <td>13.572578</td>\n",
       "    </tr>\n",
       "    <tr>\n",
       "      <td>3</td>\n",
       "      <td>0</td>\n",
       "      <td>1</td>\n",
       "      <td>3.496508</td>\n",
       "      <td>5.913503</td>\n",
       "      <td>13.161584</td>\n",
       "      <td>11.459651</td>\n",
       "      <td>11.490935</td>\n",
       "      <td>11.188815</td>\n",
       "      <td>5.831266</td>\n",
       "      <td>10.624487</td>\n",
       "      <td>10.560412</td>\n",
       "      <td>5.141664</td>\n",
       "      <td>2.833213</td>\n",
       "      <td>12.357511</td>\n",
       "      <td>12.209821</td>\n",
       "      <td>3.931826</td>\n",
       "      <td>3.218876</td>\n",
       "      <td>13.103155</td>\n",
       "    </tr>\n",
       "    <tr>\n",
       "      <td>4</td>\n",
       "      <td>0</td>\n",
       "      <td>1</td>\n",
       "      <td>4.127134</td>\n",
       "      <td>6.224558</td>\n",
       "      <td>11.931636</td>\n",
       "      <td>9.581559</td>\n",
       "      <td>10.237671</td>\n",
       "      <td>10.653582</td>\n",
       "      <td>7.941722</td>\n",
       "      <td>9.190227</td>\n",
       "      <td>9.337129</td>\n",
       "      <td>4.077537</td>\n",
       "      <td>3.433987</td>\n",
       "      <td>12.293730</td>\n",
       "      <td>11.321268</td>\n",
       "      <td>4.795791</td>\n",
       "      <td>4.343805</td>\n",
       "      <td>14.182173</td>\n",
       "    </tr>\n",
       "  </tbody>\n",
       "</table>\n",
       "</div>"
      ],
      "text/plain": [
       "   account_type  gender       age  region_code   card_lim  \\\n",
       "0             0       1  3.610918     6.354370  11.736069   \n",
       "1             0       1  3.496508     5.976351  10.985293   \n",
       "2             0       1  3.970292     5.780744  10.819758   \n",
       "3             0       1  3.496508     5.913503  13.161584   \n",
       "4             0       1  4.127134     6.224558  11.931636   \n",
       "\n",
       "   max_credit_amount_apr  max_credit_amount_may  max_credit_amount_jun  \\\n",
       "0              10.105816               9.185023              10.163770   \n",
       "1               9.220291               9.739026               9.410338   \n",
       "2               9.612467              10.502269               9.489108   \n",
       "3              11.459651              11.490935              11.188815   \n",
       "4               9.581559              10.237671              10.653582   \n",
       "\n",
       "   emi_active  total_cc_cons  total_dc_cons  total_cc_count  total_dc_count  \\\n",
       "0    7.065178       9.802705       9.766837        2.995732        4.691348   \n",
       "1    9.707926      10.645964       8.529106        2.995732        4.744932   \n",
       "2    7.871799       9.187916       9.313639        3.737670        3.970292   \n",
       "3    5.831266      10.624487      10.560412        5.141664        2.833213   \n",
       "4    7.941722       9.190227       9.337129        4.077537        3.433987   \n",
       "\n",
       "   total_debit_amount  total_credit_amount  total_debit_count  \\\n",
       "0           11.310655            11.673061           3.871201   \n",
       "1           11.029059            12.036630           4.795791   \n",
       "2           12.342922            11.613477           4.442651   \n",
       "3           12.357511            12.209821           3.931826   \n",
       "4           12.293730            11.321268           4.795791   \n",
       "\n",
       "   total_credit_count  total_investments  \n",
       "0            4.143135          12.828078  \n",
       "1            3.988984          13.318141  \n",
       "2            3.970292          13.572578  \n",
       "3            3.218876          13.103155  \n",
       "4            4.343805          14.182173  "
      ]
     },
     "execution_count": 39,
     "metadata": {},
     "output_type": "execute_result"
    }
   ],
   "source": [
    "test_X.head()"
   ]
  },
  {
   "cell_type": "code",
   "execution_count": 42,
   "metadata": {},
   "outputs": [
    {
     "name": "stdout",
     "output_type": "stream",
     "text": [
      "[9.58010435 9.66523593 9.56403619 ... 9.55839873 9.63750673 9.65266118]\n",
      "\n",
      "Y-Predictiions using Linear Regression :\n",
      " [14473.92952032 15760.08777596 14243.21863742 ... 14163.14907637\n",
      " 15329.07649481 15563.14931286]\n"
     ]
    }
   ],
   "source": [
    "# Linear Regression on Test data to get Predictions.\n",
    "\n",
    "linreg1 = LinearRegression()\n",
    "linreg1.fit(X_train,y_train)\n",
    "y_predictions_lr = linreg1.predict(test_X)\n",
    "print(y_predictions_lr)\n",
    "y_predictions = np.exp(y_predictions_lr)\n",
    "print(\"\\nY-Predictiions using Linear Regression :\\n\",y_predictions)"
   ]
  },
  {
   "cell_type": "code",
   "execution_count": 50,
   "metadata": {},
   "outputs": [],
   "source": [
    "final_pred = pd.concat([ids,pd.Series(y_predictions)],axis=1,keys=['ID','cc_cons'])\n",
    "final_pred = final_pred.set_index('ID')"
   ]
  },
  {
   "cell_type": "code",
   "execution_count": 53,
   "metadata": {},
   "outputs": [],
   "source": [
    "final_pred.to_csv('C:/Data Science/Jupyter Notebook/Hackathon Updated/Final Prediction/Test_Prediction.csv')"
   ]
  },
  {
   "cell_type": "code",
   "execution_count": null,
   "metadata": {},
   "outputs": [],
   "source": []
  }
 ],
 "metadata": {
  "kernelspec": {
   "display_name": "Python 3",
   "language": "python",
   "name": "python3"
  },
  "language_info": {
   "codemirror_mode": {
    "name": "ipython",
    "version": 3
   },
   "file_extension": ".py",
   "mimetype": "text/x-python",
   "name": "python",
   "nbconvert_exporter": "python",
   "pygments_lexer": "ipython3",
   "version": "3.7.4"
  }
 },
 "nbformat": 4,
 "nbformat_minor": 2
}
